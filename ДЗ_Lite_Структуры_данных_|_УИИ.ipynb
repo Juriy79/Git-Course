{
  "nbformat": 4,
  "nbformat_minor": 0,
  "metadata": {
    "colab": {
      "provenance": [],
      "include_colab_link": true
    },
    "kernelspec": {
      "name": "python3",
      "display_name": "Python 3"
    },
    "language_info": {
      "name": "python"
    }
  },
  "cells": [
    {
      "cell_type": "markdown",
      "metadata": {
        "id": "view-in-github",
        "colab_type": "text"
      },
      "source": [
        "<a href=\"https://colab.research.google.com/github/Juriy79/Git-Course/blob/master/%D0%94%D0%97_Lite_%D0%A1%D1%82%D1%80%D1%83%D0%BA%D1%82%D1%83%D1%80%D1%8B_%D0%B4%D0%B0%D0%BD%D0%BD%D1%8B%D1%85_%7C_%D0%A3%D0%98%D0%98.ipynb\" target=\"_parent\"><img src=\"https://colab.research.google.com/assets/colab-badge.svg\" alt=\"Open In Colab\"/></a>"
      ]
    },
    {
      "cell_type": "markdown",
      "metadata": {
        "id": "zVGn3hIr_Ms-"
      },
      "source": [
        "**Задание 1.**\n",
        "\n",
        "Создайте список с числами от 15 до 30 включительно с помощью цикла `for`.\n",
        "\n",
        "Защитите от изменений этот список, преобразовав его в иную структуру данных.\n",
        "\n",
        "Продемонстрируйте неизменяемость данных в ней попыткой изменить предпоследний элемент, при этом взяв его по отрицательному индексу."
      ]
    },
    {
      "cell_type": "code",
      "metadata": {
        "id": "MDvlKMW5FJJD",
        "outputId": "fb9aadb2-2765-4488-ecbb-ca54880823d4",
        "colab": {
          "base_uri": "https://localhost:8080/"
        }
      },
      "source": [
        "numbers = []  # Создаем пустой список\n",
        "\n",
        "for i in range(15, 31):  # Проходим по диапазону от 15 до 30 включительно\n",
        "    numbers.append(i)  # Добавляем каждое число в список\n",
        "\n",
        "print(numbers)\n"
      ],
      "execution_count": 1,
      "outputs": [
        {
          "output_type": "stream",
          "name": "stdout",
          "text": [
            "[15, 16, 17, 18, 19, 20, 21, 22, 23, 24, 25, 26, 27, 28, 29, 30]\n"
          ]
        }
      ]
    },
    {
      "cell_type": "code",
      "source": [
        "numbers = []  # Создаем пустой список\n",
        "\n",
        "for i in range(15, 31):  # Проходим по диапазону от 15 до 30 включительно\n",
        "    numbers.append(i)  # Добавляем каждое число в список\n",
        "\n",
        "numbers = tuple(numbers)  # Преобразуем список в кортеж\n",
        "\n",
        "print(numbers)\n"
      ],
      "metadata": {
        "id": "pFc9wDJPLoNC",
        "outputId": "dae98678-8f6b-425b-be50-828422ab01a1",
        "colab": {
          "base_uri": "https://localhost:8080/"
        }
      },
      "execution_count": 2,
      "outputs": [
        {
          "output_type": "stream",
          "name": "stdout",
          "text": [
            "(15, 16, 17, 18, 19, 20, 21, 22, 23, 24, 25, 26, 27, 28, 29, 30)\n"
          ]
        }
      ]
    },
    {
      "cell_type": "markdown",
      "source": [
        "**Задание 2.**\n",
        "\n",
        "Создайте список четных чисел в диапазоне от 10 до 30 включительно, используя List comprehencion и если число кратно числу 3, то вместо него поставить слово 'ДА'"
      ],
      "metadata": {
        "id": "PAHDyNO73pue"
      }
    },
    {
      "cell_type": "code",
      "source": [
        "even_numbers = ['ДА' if i % 3 == 0 else i for i in range(10, 31) if i % 2 == 0]\n",
        "\n",
        "print(even_numbers)\n"
      ],
      "metadata": {
        "id": "M8w3AK8Q8jnb",
        "outputId": "3638c39c-985b-4366-b719-74ce117e69e5",
        "colab": {
          "base_uri": "https://localhost:8080/"
        }
      },
      "execution_count": 4,
      "outputs": [
        {
          "output_type": "stream",
          "name": "stdout",
          "text": [
            "[10, 'ДА', 14, 16, 'ДА', 20, 22, 'ДА', 26, 28, 'ДА']\n"
          ]
        }
      ]
    },
    {
      "cell_type": "markdown",
      "source": [
        " создаю список четных чисел в диапазоне от 10 до 30 включительно, используя list comprehension, и заменять числа, кратные 3, на слово \"ДА\":\n",
        "\n",
        "\n",
        "\n",
        "### Объяснение кода:\n",
        "1. **`range(10, 31)`**: генерирует числа от 10 до 30.\n",
        "2. **`if i % 2 == 0`**: фильтрует только четные числа.\n",
        "3. **`'ДА' if i % 3 == 0 else i`**: заменяет числа, кратные 3, на \"ДА\".\n",
        "4. Результат сохраняется в списке `even_numbers`.\n",
        "\n"
      ],
      "metadata": {
        "id": "fr2LXxQRMS9R"
      }
    }
  ]
}